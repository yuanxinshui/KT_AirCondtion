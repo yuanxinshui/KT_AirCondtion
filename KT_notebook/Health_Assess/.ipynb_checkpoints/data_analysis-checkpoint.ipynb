{
 "cells": [
  {
   "cell_type": "code",
   "execution_count": null,
   "metadata": {},
   "outputs": [],
   "source": [
    "import numpy as np\n",
    "import pandas as pd\n",
    "import matplotlib.pyplot as plt\n",
    "from sklearn.ensemble import RandomForestClassifier\n",
    "import os,sys\n",
    "import warnings\n",
    "warnings.filterwarnings('ignore')\n",
    "from pandas_profiling import ProfileReport\n",
    "import missingno as msno\n",
    "plt.rcParams['font.sans-serif']=['SimHei']\n",
    "\n",
    "#解决中文绘图乱码\n",
    "plt.rcParams['axes.unicode_minus']=False\n",
    "pd.set_option('display.max_colwidth', 100)#-1显示全部的列"
   ]
  },
  {
   "cell_type": "code",
   "execution_count": null,
   "metadata": {},
   "outputs": [],
   "source": [
    "file_path=\"534\\\\1\\\\2#-EnviLog-2020-2(1)(1).csv\"\n",
    "data_df=pd.read_csv(file_path,encoding='gbk',index_col=0,parse_dates=[\"时间\"])\n",
    "data_df.head()\n",
    ""
   ]
  },
  {
   "cell_type": "code",
   "execution_count": null,
   "metadata": {},
   "outputs": [],
   "source": [
    "size,_=data_df.shape\n",
    "size"
   ]
  },
  {
   "cell_type": "code",
   "execution_count": null,
   "metadata": {},
   "outputs": [],
   "source": [
    "columns=data_df.columns.str.strip('\\t')\n",
    "data_df.columns=columns"
   ]
  },
  {
   "cell_type": "code",
   "execution_count": null,
   "metadata": {},
   "outputs": [],
   "source": [
    "type(data_df.columns)"
   ]
  },
  {
   "cell_type": "code",
   "execution_count": null,
   "metadata": {},
   "outputs": [],
   "source": [
    "data_dict=data_df[\"系统2蒸发器2中点温度10\"].value_counts()\n",
    "data_dict[\"32767\"]"
   ]
  },
  {
   "cell_type": "code",
   "execution_count": null,
   "metadata": {},
   "outputs": [],
   "source": [
    "data_df[\"系统2蒸发器2中点温度10\"].value_counts()\n",
    "data_dict"
   ]
  },
  {
   "cell_type": "code",
   "execution_count": null,
   "metadata": {},
   "outputs": [],
   "source": [
    "data_dict[\"32767\"]/len(data_df)"
   ]
  },
  {
   "cell_type": "code",
   "execution_count": null,
   "metadata": {},
   "outputs": [],
   "source": [
    "# 删除无效字段\n",
    "# unvalid_cols=[\"回风温度2\",\"新风温度2\",\"系统1蒸发器1中点温度\",\"系统1蒸发器2中点温度\",\"系统2蒸发器2中点温度\",\"蒸发器1出口温度2\",\"蒸发器2出口温度2\",\"系统1高压压力\",\n",
    "# \"系统2高压压力\",\"系统1冷凝压力\",\"系统2冷凝压力\",\"客室温度2\",\"客室湿2度30\",\"机组温度1\",\"机组温度2\",\"机组湿度1\",\"机组湿度2\",\"L1-L2线电压\",\"L3-L2线电压\",\"L1-L3线电压\",\n",
    "# \"L1相电流\",\"L2相电流\",\"L3相电流\",\"N相电流\",\"系统1排气过热度\",\"系统2排气过热度\",\"系统1冷凝过冷度\",\"系统2冷凝过冷度\",\"系统1冷凝饱和温度\",\"系统2冷凝饱和温度\",\n",
    "# \"平均回风温度\",\"露点湿度\",\"全部平均回风湿度\",\"系统2盘管1出口过热度\",\"系统1盘管2出口过热度\",\"平均蒸发中点温度\",\"全部平均蒸发中点温度\"]\n",
    "# unnamed_cols=[\"Unnamed: 114\",\"Unnamed: 115\",\"Unnamed: 116\",\"Unnamed: 117\",\"Unnamed: 118\"]\n",
    "# delete_cols=unvalid_cols+unnamed_cols\n",
    "# data_df.drop(columns=delete_cols,inplace=True)\n",
    "# data_df\n",
    "drop_cols=[]\n",
    "for col in columns:\n",
    "    if len(data_df[col].unique())<=4:\n",
    "        data_df.drop(col,axis=1,inplace=True)\n",
    "        drop_cols.append(col)\n",
    "print(\"delete ratio {}%\".format(len(drop_cols)/size))  \n",
    "data_df.head()"
   ]
  },
  {
   "cell_type": "code",
   "execution_count": null,
   "metadata": {},
   "outputs": [],
   "source": [
    "drop_cols"
   ]
  },
  {
   "cell_type": "code",
   "execution_count": null,
   "metadata": {},
   "outputs": [],
   "source": [
    "data_df.replace([0,0.0],[np.nan,np.nan],inplace=True)\n",
    "data_df"
   ]
  },
  {
   "cell_type": "code",
   "execution_count": null,
   "metadata": {},
   "outputs": [],
   "source": [
    "dict_null=data_df.isnull().sum()/size\n",
    "dict_null"
   ]
  },
  {
   "cell_type": "code",
   "execution_count": null,
   "metadata": {},
   "outputs": [],
   "source": [
    "# 删除缺失值比较多的列\n",
    "null_drop_cols=[]\n",
    "\n",
    "for k in dict_null.keys() :\n",
    "    if dict_null[k]>0.2:\n",
    "        null_drop_cols.append(k)"
   ]
  },
  {
   "cell_type": "code",
   "execution_count": null,
   "metadata": {},
   "outputs": [],
   "source": [
    "data_df.drop(columns=null_drop_cols,inplace=True)\n",
    ""
   ]
  },
  {
   "cell_type": "code",
   "execution_count": null,
   "metadata": {},
   "outputs": [],
   "source": [
    "dict_null=data_df.isnull().sum()/size\n",
    "dict_null"
   ]
  },
  {
   "cell_type": "code",
   "execution_count": null,
   "metadata": {},
   "outputs": [],
   "source": [
    "msno.matrix(data_df, labels=True)\n",
    "# for col in data_df.columns:\n",
    "#     data_df[col]=data_df[col].astype('int')\n",
    "# data_df.head()"
   ]
  },
  {
   "cell_type": "code",
   "execution_count": null,
   "metadata": {},
   "outputs": [],
   "source": [
    "data_df[]"
   ]
  },
  {
   "cell_type": "code",
   "execution_count": null,
   "metadata": {},
   "outputs": [],
   "source": [
    "profile = ProfileReport(data_df, title='Pandas Profiling Report_V2', html={'style':{'full_width':True}})"
   ]
  },
  {
   "cell_type": "code",
   "execution_count": null,
   "metadata": {},
   "outputs": [],
   "source": [
    "profile.to_widgets()\n",
    "profile.to_file(output_file=\"your_report_V2.html\")"
   ]
  },
  {
   "cell_type": "code",
   "execution_count": null,
   "metadata": {},
   "outputs": [],
   "source": [
    "len(data_df.columns)"
   ]
  }
 ],
 "metadata": {
  "language_info": {
   "name": "python",
   "codemirror_mode": {
    "name": "ipython",
    "version": 3
   },
   "version": "3.7.6-final"
  },
  "orig_nbformat": 2,
  "file_extension": ".py",
  "mimetype": "text/x-python",
  "name": "python",
  "npconvert_exporter": "python",
  "pygments_lexer": "ipython3",
  "version": 3,
  "kernelspec": {
   "name": "python37664bit6a875badf4f941eb8a113f37a51fba5b",
   "display_name": "Python 3.7.6 64-bit"
  }
 },
 "nbformat": 4,
 "nbformat_minor": 2
}